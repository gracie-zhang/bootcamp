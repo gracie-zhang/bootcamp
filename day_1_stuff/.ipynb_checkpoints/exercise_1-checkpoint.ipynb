{
 "cells": [
  {
   "cell_type": "code",
   "execution_count": 82,
   "metadata": {},
   "outputs": [],
   "source": [
    "seq = 'ACTGATCG'"
   ]
  },
  {
   "cell_type": "code",
   "execution_count": 84,
   "metadata": {},
   "outputs": [
    {
     "name": "stdout",
     "output_type": "stream",
     "text": [
      "CGATCAGT\n"
     ]
    }
   ],
   "source": [
    "def complement_base(base):\n",
    "    \"\"\"Returns W-C complement of a base.\"\"\"\n",
    "    \n",
    "    if base in 'Aa':\n",
    "        return 'T'\n",
    "    elif base in 'Tt':\n",
    "        return 'A'\n",
    "    elif base in 'Cc':\n",
    "        return 'G'\n",
    "    else:\n",
    "        return 'C'\n",
    "    \n",
    "def reverse_complement(seq):\n",
    "    \"\"\"Compute reverse complement of a sequence.\"\"\"\n",
    "    \n",
    "    rev_seq = ''\n",
    "    \n",
    "    rev_seq += complement_base(seq[::-1])\n",
    "        \n",
    "print(rev_seq)"
   ]
  },
  {
   "cell_type": "code",
   "execution_count": 131,
   "metadata": {},
   "outputs": [],
   "source": [
    "seq1 = 'ATGCTAGCTAGCCTAC'\n",
    "\n",
    "seq2 = 'ACTAGCTATGCTCGA'"
   ]
  },
  {
   "cell_type": "code",
   "execution_count": 137,
   "metadata": {},
   "outputs": [],
   "source": [
    "def lcs(seq1, seq2):\n",
    "    longest_seq = ''\n",
    "    m = len(seq1)\n",
    "    n = len(seq2)\n",
    "    for i in range(m):\n",
    "        seq = ''\n",
    "        for j in range(n):\n",
    "            if (i + j < m and seq1[i + j] == seq2[j]):\n",
    "                seq += seq2[j]\n",
    "            else:\n",
    "                if (len(seq) > len(longest_seq)): longest_seq = seq\n",
    "                seq = ''\n",
    "    return longest_seq"
   ]
  },
  {
   "cell_type": "code",
   "execution_count": 138,
   "metadata": {},
   "outputs": [
    {
     "name": "stdout",
     "output_type": "stream",
     "text": [
      "CTAGCTA\n"
     ]
    }
   ],
   "source": [
    "print(lcs(seq1, seq2))"
   ]
  },
  {
   "cell_type": "code",
   "execution_count": null,
   "metadata": {},
   "outputs": [],
   "source": []
  }
 ],
 "metadata": {
  "kernelspec": {
   "display_name": "Python 3",
   "language": "python",
   "name": "python3"
  },
  "language_info": {
   "codemirror_mode": {
    "name": "ipython",
    "version": 3
   },
   "file_extension": ".py",
   "mimetype": "text/x-python",
   "name": "python",
   "nbconvert_exporter": "python",
   "pygments_lexer": "ipython3",
   "version": "3.6.5"
  }
 },
 "nbformat": 4,
 "nbformat_minor": 2
}
