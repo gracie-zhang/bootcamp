{
 "cells": [
  {
   "cell_type": "code",
   "execution_count": 41,
   "metadata": {},
   "outputs": [
    {
     "name": "stdout",
     "output_type": "stream",
     "text": [
      "ACGATGGACAGAAACTTCTTTCGGGGCGTTCACGCCAATACGCACCTGGTTGCCCTTCACCAGAATCAGCATTCTTTGCTCCTTGAAAGATTAAAAGAGTCGGGTCTCTCTGTATCCCGGCATGGCATTACATTCTGTTAAACCTAAGTTTAGCCGATATACAAAACTTCAACCTGACTTTTATAATTATTGCAATTTTGCGCTGACCCAGCCTTGTACACTGGCTAACGCTGCAGGCAGCACCTGCTGAGCGACCATCCCAATCAATTCCCCTGCTTTAACCCGGTCGGTCACATCCTTAGACCCCAGTTGATTTTTCAGATCATCAACCATGGTTCGCAGCATTTTCGGCTCAATACCTGCACTCTCCTGCGCTGCGGCCTGGTCCTTCAACTGCTGCAACTCTTTTTCCAGCTGACGATGCGCAATATCGTTTAAGCGATCGCTTTGCGCATGAACGGTGGCCATAGCGCCTTCACCTAGACCGATATCACCGGTACGACTGGCGTGAGTACCGCCGCACAGTTCAGTAGAGAAATCTTTCGCCTTCGCCGCGTCGAGATCCATGATGTTCGTTTCAATCGGCAGGTTGCGGCGAATCGAGAAGTCGAAGCGCAGCACTTTATCGCTAACCAGCGAACCTTTCTGCGCAACGTGTGTACGTGCGCGGCGCGCTTCATCTACGTCAGCCTGTACCGCATCGCCCACTTTCAGAGCGCCGAAAGTAAATCCAGCGCCTTTCAGCTCGCCTTTATCGCCAACCTGACCGCCTGATTCCGCCGCTTTACCATCGACAAACAGCGCAGTCACTTTGCCGTTCAGTTCCAGATGGTCATAACCAGCTTCGCGCGCGCGACGGCGTTGCTCTTCCATAGCGGCTTCAAAACCGGCTTCATCGACATACAGACGGAAAGCGGTTTCGCCGTCCAGGGTGTCGCCCTGCAATTTCGCCAGTTCTTCAACCTGTTCGACCTGCGCCTGCTGACGTTTCAACTCTTCG\n"
     ]
    }
   ],
   "source": [
    "with open('data/salmonella_spi1_region.fna', 'r') as f:\n",
    "    salmon_seq = ''\n",
    "    for line in f:\n",
    "        if line[:3] != '>gi':\n",
    "            line = f.readline().rstrip()\n",
    "            salmon_seq += line\n",
    "    print(salmon_seq[:1000])"
   ]
  },
  {
   "cell_type": "code",
   "execution_count": null,
   "metadata": {},
   "outputs": [],
   "source": []
  }
 ],
 "metadata": {
  "kernelspec": {
   "display_name": "Python 3",
   "language": "python",
   "name": "python3"
  },
  "language_info": {
   "codemirror_mode": {
    "name": "ipython",
    "version": 3
   },
   "file_extension": ".py",
   "mimetype": "text/x-python",
   "name": "python",
   "nbconvert_exporter": "python",
   "pygments_lexer": "ipython3",
   "version": "3.6.5"
  }
 },
 "nbformat": 4,
 "nbformat_minor": 2
}
